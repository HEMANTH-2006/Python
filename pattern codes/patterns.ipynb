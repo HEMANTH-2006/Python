{
 "cells": [
  {
   "cell_type": "code",
   "execution_count": null,
   "id": "3c583450-f834-4701-9ab3-003b19ead834",
   "metadata": {},
   "outputs": [],
   "source": [
    "#to print the following pattern\n",
    "''\n",
    "    1\n",
    "   21\n",
    "  321\n",
    " 4321\n",
    "54321\n",
    "''\n",
    "def print_pattern(n):\n",
    "    for i in range(n):\n",
    "        # Print leading spaces\n",
    "        for j in range(n - i - 1):\n",
    "            print(' ', end='')\n",
    "        # Print decreasing numbers\n",
    "        for k in range(i + 1, 0, -1):\n",
    "            print(k, end='')\n",
    "        # Move to the next line\n",
    "        print()\n",
    "\n",
    "# Set the number of rows\n",
    "num_rows = 5\n",
    "print_pattern(num_rows)"
   ]
  }
 ],
 "metadata": {
  "kernelspec": {
   "display_name": "Python 3 (ipykernel)",
   "language": "python",
   "name": "python3"
  },
  "language_info": {
   "codemirror_mode": {
    "name": "ipython",
    "version": 3
   },
   "file_extension": ".py",
   "mimetype": "text/x-python",
   "name": "python",
   "nbconvert_exporter": "python",
   "pygments_lexer": "ipython3",
   "version": "3.12.4"
  }
 },
 "nbformat": 4,
 "nbformat_minor": 5
}
