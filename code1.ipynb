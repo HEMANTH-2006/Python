{
 "cells": [
  {
   "cell_type": "code",
   "execution_count": 2,
   "id": "3d10c0e5-0c2d-4c6f-bd4f-8db7032c7a4c",
   "metadata": {},
   "outputs": [
    {
     "name": "stdout",
     "output_type": "stream",
     "text": [
      "10\n",
      "12\n"
     ]
    }
   ],
   "source": [
    "#swaping of two numbers\n",
    "a=12\n",
    "b=10\n",
    "temp=a\n",
    "a=b\n",
    "b=temp\n",
    "\n",
    "print(a)\n",
    "print(b)"
   ]
  },
  {
   "cell_type": "code",
   "execution_count": 16,
   "id": "688d90a0-f95f-4aa2-9379-37c8c41fa681",
   "metadata": {},
   "outputs": [
    {
     "name": "stdin",
     "output_type": "stream",
     "text": [
      "How many terms?  5\n"
     ]
    },
    {
     "name": "stdout",
     "output_type": "stream",
     "text": [
      "Fibonacci sequence:\n",
      "0\n",
      "1\n",
      "1\n",
      "2\n",
      "3\n"
     ]
    }
   ],
   "source": [
    "#fibonaci series\n",
    "n = int(input(\"How many terms? \"))\n",
    "n1 = 0\n",
    "n2 = 1\n",
    "temp= 0\n",
    "if n <= 0:\n",
    "   print(\" enter a positive integer\")\n",
    "elif n == 1:\n",
    "   print(\"Fibonacci sequence upto\",n2,\":\")\n",
    "   print(n1)\n",
    "else:\n",
    "   print(\"Fibonacci sequence:\")\n",
    "   while temp < n:\n",
    "       print(n1)\n",
    "       nth = n1 + n2\n",
    "       n1 = n2\n",
    "       n2 = nth\n",
    "       temp += 1"
   ]
  },
  {
   "cell_type": "code",
   "execution_count": 19,
   "id": "7e7d1c5e-0ce1-4bd2-b9f7-3cd81acc97de",
   "metadata": {},
   "outputs": [
    {
     "name": "stdout",
     "output_type": "stream",
     "text": [
      "<class 'tuple'>\n"
     ]
    }
   ],
   "source": [
    "my=(\"abc\",)\n",
    "print(type(my))"
   ]
  },
  {
   "cell_type": "code",
   "execution_count": 28,
   "id": "5e119a48-b169-482d-af8a-c45b5b5eeafc",
   "metadata": {},
   "outputs": [
    {
     "name": "stdin",
     "output_type": "stream",
     "text": [
      "length of the series 1\n"
     ]
    },
    {
     "name": "stdout",
     "output_type": "stream",
     "text": [
      "0\n"
     ]
    }
   ],
   "source": [
    "n=int(input(\"length of the series\"))\n",
    "n1=0\n",
    "n2=1\n",
    "temp=0\n",
    "if n<=0:\n",
    "    print(\"please enter positive digit\")\n",
    "\n",
    "elif n==1:\n",
    "    print(n1)\n",
    "\n",
    "else:\n",
    "    while temp<n:\n",
    "        print(n1)\n",
    "        n3=n1+n2\n",
    "        n1=n2\n",
    "        n2=n3\n",
    "        temp+=1"
   ]
  }
 ],
 "metadata": {
  "kernelspec": {
   "display_name": "Python 3 (ipykernel)",
   "language": "python",
   "name": "python3"
  },
  "language_info": {
   "codemirror_mode": {
    "name": "ipython",
    "version": 3
   },
   "file_extension": ".py",
   "mimetype": "text/x-python",
   "name": "python",
   "nbconvert_exporter": "python",
   "pygments_lexer": "ipython3",
   "version": "3.12.1"
  }
 },
 "nbformat": 4,
 "nbformat_minor": 5
}
